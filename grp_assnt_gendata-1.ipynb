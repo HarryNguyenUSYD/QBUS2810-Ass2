{
  "cells": [
    {
      "cell_type": "code",
      "execution_count": null,
      "metadata": {
        "id": "fOeDnc0ZYK_b"
      },
      "outputs": [],
      "source": [
        "# ================================================================================\n",
        "# Splitting training and test sets\n",
        "# ================================================================================\n",
        "\n",
        "import pandas as pd\n",
        "\n",
        "data=pd.read_csv('WAGE2_2025_abridged.csv')\n",
        "\n",
        "state=1108224 # replace this number with the sum of the student IDs for the members of your group\n",
        "\n",
        "train = data.sample(frac=0.8, random_state=state)\n",
        "test = data[data.index.isin(train.index)==False].copy() # Only for prediction\n",
        "\n",
        "train=train.reset_index(drop=True)\n",
        "test=test.reset_index(drop=True)\n",
        "\n"
      ]
    },
    {
      "cell_type": "code",
      "execution_count": null,
      "metadata": {
        "id": "0ddruajkYK_e",
        "outputId": "cdecbb87-0d9d-40ba-8817-e0c885505396"
      },
      "outputs": [
        {
          "data": {
            "text/plain": [
              "(420, 24)"
            ]
          },
          "execution_count": 2,
          "metadata": {},
          "output_type": "execute_result"
        }
      ],
      "source": [
        "data.shape"
      ]
    },
    {
      "cell_type": "code",
      "execution_count": null,
      "metadata": {
        "id": "6NSZOsypYK_i"
      },
      "outputs": [],
      "source": []
    }
  ],
  "metadata": {
    "colab": {
      "provenance": []
    },
    "kernelspec": {
      "display_name": "Python 3",
      "language": "python",
      "name": "python3"
    },
    "language_info": {
      "codemirror_mode": {
        "name": "ipython",
        "version": 3
      },
      "file_extension": ".py",
      "mimetype": "text/x-python",
      "name": "python",
      "nbconvert_exporter": "python",
      "pygments_lexer": "ipython3",
      "version": "3.8.3"
    }
  },
  "nbformat": 4,
  "nbformat_minor": 0
}
